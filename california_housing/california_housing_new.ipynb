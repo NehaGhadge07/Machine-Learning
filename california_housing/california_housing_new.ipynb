{
  "cells": [
    {
      "cell_type": "code",
      "execution_count": 1,
      "metadata": {
        "id": "r0SKvbsXJJ5f"
      },
      "outputs": [],
      "source": [
        "#California Housing Dataset\n",
        "#import necessary libraries\n",
        "import numpy as np\n",
        "import pandas as pd\n",
        "import matplotlib.pyplot as plt\n",
        "import seaborn as sns\n",
        "from sklearn.datasets import fetch_california_housing\n",
        "from sklearn.model_selection import train_test_split\n",
        "from sklearn.linear_model import LinearRegression,Ridge,Lasso\n",
        "from sklearn.tree import DecisionTreeRegressor\n",
        "from sklearn.ensemble import RandomForestRegressor\n",
        "from sklearn.metrics import mean_squared_error,mean_absolute_error,r2_score"
      ]
    },
    {
      "cell_type": "code",
      "execution_count": 2,
      "metadata": {
        "colab": {
          "base_uri": "https://localhost:8080/",
          "height": 206
        },
        "id": "ntM_BVS4L_NF",
        "outputId": "ea189798-a3b2-4430-dd80-5aff87ff0235"
      },
      "outputs": [
        {
          "data": {
            "text/html": [
              "<div>\n",
              "<style scoped>\n",
              "    .dataframe tbody tr th:only-of-type {\n",
              "        vertical-align: middle;\n",
              "    }\n",
              "\n",
              "    .dataframe tbody tr th {\n",
              "        vertical-align: top;\n",
              "    }\n",
              "\n",
              "    .dataframe thead th {\n",
              "        text-align: right;\n",
              "    }\n",
              "</style>\n",
              "<table border=\"1\" class=\"dataframe\">\n",
              "  <thead>\n",
              "    <tr style=\"text-align: right;\">\n",
              "      <th></th>\n",
              "      <th>MedInc</th>\n",
              "      <th>HouseAge</th>\n",
              "      <th>AveRooms</th>\n",
              "      <th>AveBedrms</th>\n",
              "      <th>Population</th>\n",
              "      <th>AveOccup</th>\n",
              "      <th>Latitude</th>\n",
              "      <th>Longitude</th>\n",
              "      <th>MedHouseVal</th>\n",
              "    </tr>\n",
              "  </thead>\n",
              "  <tbody>\n",
              "    <tr>\n",
              "      <th>0</th>\n",
              "      <td>8.3252</td>\n",
              "      <td>41.0</td>\n",
              "      <td>6.984127</td>\n",
              "      <td>1.023810</td>\n",
              "      <td>322.0</td>\n",
              "      <td>2.555556</td>\n",
              "      <td>37.88</td>\n",
              "      <td>-122.23</td>\n",
              "      <td>4.526</td>\n",
              "    </tr>\n",
              "    <tr>\n",
              "      <th>1</th>\n",
              "      <td>8.3014</td>\n",
              "      <td>21.0</td>\n",
              "      <td>6.238137</td>\n",
              "      <td>0.971880</td>\n",
              "      <td>2401.0</td>\n",
              "      <td>2.109842</td>\n",
              "      <td>37.86</td>\n",
              "      <td>-122.22</td>\n",
              "      <td>3.585</td>\n",
              "    </tr>\n",
              "    <tr>\n",
              "      <th>2</th>\n",
              "      <td>7.2574</td>\n",
              "      <td>52.0</td>\n",
              "      <td>8.288136</td>\n",
              "      <td>1.073446</td>\n",
              "      <td>496.0</td>\n",
              "      <td>2.802260</td>\n",
              "      <td>37.85</td>\n",
              "      <td>-122.24</td>\n",
              "      <td>3.521</td>\n",
              "    </tr>\n",
              "    <tr>\n",
              "      <th>3</th>\n",
              "      <td>5.6431</td>\n",
              "      <td>52.0</td>\n",
              "      <td>5.817352</td>\n",
              "      <td>1.073059</td>\n",
              "      <td>558.0</td>\n",
              "      <td>2.547945</td>\n",
              "      <td>37.85</td>\n",
              "      <td>-122.25</td>\n",
              "      <td>3.413</td>\n",
              "    </tr>\n",
              "    <tr>\n",
              "      <th>4</th>\n",
              "      <td>3.8462</td>\n",
              "      <td>52.0</td>\n",
              "      <td>6.281853</td>\n",
              "      <td>1.081081</td>\n",
              "      <td>565.0</td>\n",
              "      <td>2.181467</td>\n",
              "      <td>37.85</td>\n",
              "      <td>-122.25</td>\n",
              "      <td>3.422</td>\n",
              "    </tr>\n",
              "  </tbody>\n",
              "</table>\n",
              "</div>"
            ],
            "text/plain": [
              "   MedInc  HouseAge  AveRooms  AveBedrms  Population  AveOccup  Latitude  \\\n",
              "0  8.3252      41.0  6.984127   1.023810       322.0  2.555556     37.88   \n",
              "1  8.3014      21.0  6.238137   0.971880      2401.0  2.109842     37.86   \n",
              "2  7.2574      52.0  8.288136   1.073446       496.0  2.802260     37.85   \n",
              "3  5.6431      52.0  5.817352   1.073059       558.0  2.547945     37.85   \n",
              "4  3.8462      52.0  6.281853   1.081081       565.0  2.181467     37.85   \n",
              "\n",
              "   Longitude  MedHouseVal  \n",
              "0    -122.23        4.526  \n",
              "1    -122.22        3.585  \n",
              "2    -122.24        3.521  \n",
              "3    -122.25        3.413  \n",
              "4    -122.25        3.422  "
            ]
          },
          "execution_count": 2,
          "metadata": {},
          "output_type": "execute_result"
        }
      ],
      "source": [
        "california=fetch_california_housing()\n",
        "data=pd.DataFrame(california.data,columns=california.feature_names)\n",
        "data['MedHouseVal']=california.target\n",
        "data.head()"
      ]
    },
    {
      "cell_type": "code",
      "execution_count": 3,
      "metadata": {
        "colab": {
          "base_uri": "https://localhost:8080/",
          "height": 366
        },
        "id": "j009IRaXMD0k",
        "outputId": "7f45ec34-154f-4123-bcf5-93baddac0ba8"
      },
      "outputs": [
        {
          "data": {
            "text/plain": [
              "MedInc         0\n",
              "HouseAge       0\n",
              "AveRooms       0\n",
              "AveBedrms      0\n",
              "Population     0\n",
              "AveOccup       0\n",
              "Latitude       0\n",
              "Longitude      0\n",
              "MedHouseVal    0\n",
              "dtype: int64"
            ]
          },
          "execution_count": 3,
          "metadata": {},
          "output_type": "execute_result"
        }
      ],
      "source": [
        "data.isnull().sum()"
      ]
    },
    {
      "cell_type": "code",
      "execution_count": 6,
      "metadata": {
        "colab": {
          "base_uri": "https://localhost:8080/"
        },
        "id": "Ycy9AgJRMNTR",
        "outputId": "0487dd21-a073-4212-e326-67230051bc8f"
      },
      "outputs": [
        {
          "data": {
            "text/plain": [
              "((16512, 8), (4128, 8), (16512,), (4128,))"
            ]
          },
          "execution_count": 6,
          "metadata": {},
          "output_type": "execute_result"
        }
      ],
      "source": [
        "X=data.drop('MedHouseVal',axis=1)\n",
        "y=data['MedHouseVal']\n",
        "\n",
        "X_train,X_test,y_train,y_test=train_test_split(X,y,test_size=0.2,random_state=42)\n",
        "X_train.shape,X_test.shape,y_train.shape,y_test.shape\n",
        "\n"
      ]
    },
    {
      "cell_type": "code",
      "execution_count": 7,
      "metadata": {
        "colab": {
          "base_uri": "https://localhost:8080/",
          "height": 206
        },
        "id": "hiVZFi1_MWtg",
        "outputId": "9074f8dd-31a0-4b0f-9bbe-274e8784d69e"
      },
      "outputs": [
        {
          "data": {
            "text/html": [
              "<div>\n",
              "<style scoped>\n",
              "    .dataframe tbody tr th:only-of-type {\n",
              "        vertical-align: middle;\n",
              "    }\n",
              "\n",
              "    .dataframe tbody tr th {\n",
              "        vertical-align: top;\n",
              "    }\n",
              "\n",
              "    .dataframe thead th {\n",
              "        text-align: right;\n",
              "    }\n",
              "</style>\n",
              "<table border=\"1\" class=\"dataframe\">\n",
              "  <thead>\n",
              "    <tr style=\"text-align: right;\">\n",
              "      <th></th>\n",
              "      <th>Model</th>\n",
              "      <th>MSE</th>\n",
              "      <th>MAE</th>\n",
              "      <th>R2 score</th>\n",
              "    </tr>\n",
              "  </thead>\n",
              "  <tbody>\n",
              "    <tr>\n",
              "      <th>0</th>\n",
              "      <td>Linear Regression</td>\n",
              "      <td>0.555892</td>\n",
              "      <td>0.533200</td>\n",
              "      <td>0.575788</td>\n",
              "    </tr>\n",
              "    <tr>\n",
              "      <th>1</th>\n",
              "      <td>Ridge Regression</td>\n",
              "      <td>0.555803</td>\n",
              "      <td>0.533204</td>\n",
              "      <td>0.575855</td>\n",
              "    </tr>\n",
              "    <tr>\n",
              "      <th>2</th>\n",
              "      <td>Lasso Regression</td>\n",
              "      <td>0.613512</td>\n",
              "      <td>0.581607</td>\n",
              "      <td>0.531817</td>\n",
              "    </tr>\n",
              "    <tr>\n",
              "      <th>3</th>\n",
              "      <td>Decision Tree</td>\n",
              "      <td>0.524515</td>\n",
              "      <td>0.522259</td>\n",
              "      <td>0.599732</td>\n",
              "    </tr>\n",
              "    <tr>\n",
              "      <th>4</th>\n",
              "      <td>Random Forest</td>\n",
              "      <td>0.252655</td>\n",
              "      <td>0.326873</td>\n",
              "      <td>0.807194</td>\n",
              "    </tr>\n",
              "  </tbody>\n",
              "</table>\n",
              "</div>"
            ],
            "text/plain": [
              "               Model       MSE       MAE  R2 score\n",
              "0  Linear Regression  0.555892  0.533200  0.575788\n",
              "1   Ridge Regression  0.555803  0.533204  0.575855\n",
              "2   Lasso Regression  0.613512  0.581607  0.531817\n",
              "3      Decision Tree  0.524515  0.522259  0.599732\n",
              "4      Random Forest  0.252655  0.326873  0.807194"
            ]
          },
          "execution_count": 7,
          "metadata": {},
          "output_type": "execute_result"
        }
      ],
      "source": [
        "models={\n",
        "    'Linear Regression':LinearRegression(),\n",
        "    'Ridge Regression':Ridge(alpha=1.0),\n",
        "    'Lasso Regression':Lasso(alpha=0.1),\n",
        "    'Decision Tree':DecisionTreeRegressor(max_depth=5),\n",
        "    'Random Forest':RandomForestRegressor(n_estimators=100),\n",
        "}\n",
        "\n",
        "results=pd.DataFrame(columns=['Model','MSE','MAE','R2 score'])\n",
        "result1=[]\n",
        "for model_name,model in models.items():\n",
        "    model.fit(X_train,y_train)\n",
        "    y_pred=model.predict(X_test)\n",
        "    mse=mean_squared_error(y_test,y_pred)\n",
        "    mae=mean_absolute_error(y_test,y_pred)\n",
        "    r2=r2_score(y_test,y_pred)\n",
        "\n",
        "    result1.append({\n",
        "        'Model':model_name,\n",
        "        'MSE':mse,\n",
        "        'MAE':mae,\n",
        "        'R2 score':r2\n",
        "    })\n",
        "results=pd.DataFrame(result1)\n",
        "results"
      ]
    },
    {
      "cell_type": "code",
      "execution_count": 9,
      "metadata": {},
      "outputs": [
        {
          "name": "stdout",
          "output_type": "stream",
          "text": [
            "Model saved successfully as 'california_price_model.pkl'\n"
          ]
        }
      ],
      "source": [
        "import pickle\n",
        "# Example: Save the Random Forest model\n",
        "best_model = models['Random Forest']\n",
        "with open('california_price_model.pkl', 'wb') as f:\n",
        "    pickle.dump(best_model, f)\n",
        "\n",
        "print(\"Model saved successfully as 'california_price_model.pkl'\")"
      ]
    },
    {
      "cell_type": "code",
      "execution_count": 10,
      "metadata": {
        "colab": {
          "base_uri": "https://localhost:8080/",
          "height": 442
        },
        "id": "q8x360ahMiYY",
        "outputId": "b67106d9-5645-49e8-f973-be9dd6728076"
      },
      "outputs": [
        {
          "data": {
            "image/png": "[encoded data removed]",
            "text/plain": [
              "<Figure size 1800x600 with 3 Axes>"
            ]
          },
          "metadata": {},
          "output_type": "display_data"
        }
      ],
      "source": [
        "\n",
        "fig,axes=plt.subplots(nrows=1,ncols=3,figsize=(18,6))\n",
        "sns.barplot(x='Model',y='MSE',data=results,ax=axes[0])\n",
        "axes[0].set_title('Mean Squared Error(MSE)')\n",
        "axes[0].set_xlabel('Model')\n",
        "axes[0].set_ylabel('MSE')\n",
        "\n",
        "sns.barplot(x='Model',y='MAE',data=results,ax=axes[1])\n",
        "axes[1].set_title('mean_absolute_error(MAE)')\n",
        "axes[1].set_xlabel('Model')\n",
        "axes[1].set_ylabel('MAE')\n",
        "\n",
        "sns.barplot(x='Model',y='R2 score',data=results,ax=axes[2])\n",
        "axes[2].set_title('R2 score')\n",
        "axes[2].set_xlabel('Model')\n",
        "axes[2].set_ylabel('R2 score')\n",
        "\n",
        "plt.tight_layout()\n",
        "plt.show()"
      ]
    },
    {
      "cell_type": "code",
      "execution_count": 12,
      "metadata": {
        "id": "U47prOPRBoVM"
      },
      "outputs": [
        {
          "name": "stdout",
          "output_type": "stream",
          "text": [
            "Predicted Median House Value: $4.19\n"
          ]
        },
        {
          "name": "stderr",
          "output_type": "stream",
          "text": [
            "c:\\Users\\neha0\\AppData\\Local\\Programs\\Python\\Python312\\Lib\\site-packages\\sklearn\\utils\\validation.py:2739: UserWarning: X does not have valid feature names, but RandomForestRegressor was fitted with feature names\n",
            "  warnings.warn(\n"
          ]
        }
      ],
      "source": [
        "import numpy as np\n",
        "import pickle\n",
        "\n",
        "def predict_house_value(input_features):\n",
        "    \"\"\"\n",
        "    Predicts median house value using the trained model.\n",
        "\n",
        "    Parameters:\n",
        "        input_features (list or array): A list or array of 8 numeric values in the order:\n",
        "            [MedInc, HouseAge, AveRooms, AveBedrms, Population, AveOccup, Latitude, Longitude]\n",
        "\n",
        "    Returns:\n",
        "        float: Predicted median house value\n",
        "    \"\"\"\n",
        "    # Load the trained model\n",
        "    with open(r'D:\\Machine learning\\california_housing\\california_price_model.pkl', 'rb') as f:\n",
        "        model = pickle.load(f)\n",
        "\n",
        "    # Convert input to 2D array\n",
        "    input_array = np.array(input_features).reshape(1, -1)\n",
        "\n",
        "    # Predict\n",
        "    prediction = model.predict(input_array)\n",
        "    return prediction[0]\n",
        "\n",
        "# Example usage\n",
        "if __name__ == \"__main__\":\n",
        "    # Input features: [MedInc, HouseAge, AveRooms, AveBedrms, Population, AveOccup, Latitude, Longitude]\n",
        "    sample_input = [8.3252, 41.0, 6.9841, 1.0238, 322.0, 2.5556, 37.88, -122.23]\n",
        "    \n",
        "    predicted_value = predict_house_value(sample_input)\n",
        "    print(f\"Predicted Median House Value: ${predicted_value:.2f}\")\n"
      ]
    },
    {
      "cell_type": "code",
      "execution_count": null,
      "metadata": {},
      "outputs": [],
      "source": []
    }
  ],
  "metadata": {
    "colab": {
      "provenance": []
    },
    "kernelspec": {
      "display_name": "Python 3",
      "name": "python3"
    },
    "language_info": {
      "codemirror_mode": {
        "name": "ipython",
        "version": 3
      },
      "file_extension": ".py",
      "mimetype": "text/x-python",
      "name": "python",
      "nbconvert_exporter": "python",
      "pygments_lexer": "ipython3",
      "version": "3.12.4"
    }
  },
  "nbformat": 4,
  "nbformat_minor": 0
}
